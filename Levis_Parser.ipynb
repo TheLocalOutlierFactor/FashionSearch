{
  "nbformat": 4,
  "nbformat_minor": 0,
  "metadata": {
    "colab": {
      "provenance": []
    },
    "kernelspec": {
      "name": "python3",
      "display_name": "Python 3"
    },
    "language_info": {
      "name": "python"
    }
  },
  "cells": [
    {
      "cell_type": "markdown",
      "source": [
        "# Various attempts to parse products from Levi's using Selenium with different parallelization approaches."
      ],
      "metadata": {
        "id": "VkY3qmJOmwVT"
      }
    },
    {
      "cell_type": "code",
      "source": [
        "from IPython.display import clear_output"
      ],
      "metadata": {
        "id": "qASdIC7ifMSE"
      },
      "execution_count": null,
      "outputs": []
    },
    {
      "cell_type": "code",
      "source": [
        "!apt-get update\n",
        "!pip install selenium\n",
        "!pip install webdriver-manager\n",
        "!apt install firefox-geckodriver\n",
        "!cp /usr/lib/geckodriver /usr/bin\n",
        "!cp /usr/lib/firefox /usr/bin\n",
        "clear_output()"
      ],
      "metadata": {
        "id": "QMl6gtc7sX_G"
      },
      "execution_count": null,
      "outputs": []
    },
    {
      "cell_type": "code",
      "source": [
        "import os\n",
        "from datetime import datetime\n",
        "import time\n",
        "from itertools import repeat\n",
        "\n",
        "import numpy as np\n",
        "import pandas as pd\n",
        "\n",
        "from webdriver_manager.firefox import GeckoDriverManager\n",
        "\n",
        "from selenium import webdriver\n",
        "from selenium.webdriver.firefox.service import Service\n",
        "\n",
        "from selenium.webdriver.common.by import By\n",
        "from selenium.webdriver.common.keys import Keys\n",
        "from selenium.webdriver.support import expected_conditions as EC\n",
        "from selenium.webdriver.support.expected_conditions import presence_of_element_located as ele_present\n",
        "from selenium.webdriver.support.wait import WebDriverWait\n",
        "from selenium.common.exceptions import StaleElementReferenceException, TimeoutException\n",
        "\n",
        "import multiprocessing as mp\n",
        "import threading\n",
        "from concurrent.futures import ThreadPoolExecutor, as_completed"
      ],
      "metadata": {
        "id": "7W55L-Bnl36m"
      },
      "execution_count": null,
      "outputs": []
    },
    {
      "cell_type": "code",
      "source": [
        "os.environ[\"WDM_PROGRESS_BAR\"] = \"0\""
      ],
      "metadata": {
        "id": "i4xE19Fdv3mT"
      },
      "execution_count": null,
      "outputs": []
    },
    {
      "cell_type": "code",
      "source": [
        "driver_path = GeckoDriverManager().install()"
      ],
      "metadata": {
        "id": "4e06GDhxfrB1"
      },
      "execution_count": null,
      "outputs": []
    },
    {
      "cell_type": "code",
      "source": [
        "def scroll_to_ele(driver, object):\n",
        "    x = object.location[\"x\"]\n",
        "    y = object.location[\"y\"]\n",
        "    scroll_by_coord = f\"window.scrollTo({x}, {y});\"\n",
        "    scroll_nav_out_of_way = \"window.scrollBy(0, -120);\"\n",
        "    driver.execute_script(scroll_by_coord)\n",
        "    driver.execute_script(scroll_nav_out_of_way)"
      ],
      "metadata": {
        "id": "DWJ3phAWISQp"
      },
      "execution_count": null,
      "outputs": []
    },
    {
      "cell_type": "code",
      "source": [
        "def try_to_get_ele(driver, css_selector, sleep_timer=0.3, max_retries=None, return_text=False):\n",
        "    if not max_retries:\n",
        "      max_retries = int(30 / sleep_timer)\n",
        "\n",
        "    try_n = 0\n",
        "    success = False\n",
        "    while (not success) and (try_n < max_retries):\n",
        "      try:\n",
        "        if return_text:\n",
        "          element = driver.find_element(By.CSS_SELECTOR, css_selector).text\n",
        "        else:\n",
        "          element = driver.find_element(By.CSS_SELECTOR, css_selector)\n",
        "        success = True\n",
        "      except StaleElementReferenceException as e:\n",
        "        try_n += 1\n",
        "        time.sleep(sleep_timer)\n",
        "\n",
        "    if try_n == max_retries:\n",
        "      raise e\n",
        "\n",
        "    return element"
      ],
      "metadata": {
        "id": "-O1eAe18Ub2D"
      },
      "execution_count": null,
      "outputs": []
    },
    {
      "cell_type": "code",
      "source": [
        "def setup_worker_browser(driver_path):\n",
        "  global browser\n",
        "\n",
        "  options = webdriver.FirefoxOptions()\n",
        "  options.add_argument(\"start-maximized\")\n",
        "  options.add_argument(\"--headless\")\n",
        "\n",
        "  driver_service = Service(driver_path)\n",
        "\n",
        "  browser = webdriver.Firefox(options=options, service=driver_service)\n",
        "  browser.command_executor.set_timeout(30)"
      ],
      "metadata": {
        "id": "5pW4YUjp-SU4"
      },
      "execution_count": null,
      "outputs": []
    },
    {
      "cell_type": "code",
      "source": [
        "def get_products_list(section_url):\n",
        "  all_product_names = []\n",
        "  all_urls = []\n",
        "  section = []\n",
        "\n",
        "  error_log = []\n",
        "\n",
        "  fails_count_threshold = 3\n",
        "  fails_count = 0\n",
        "\n",
        "  i = 0\n",
        "  while True:\n",
        "    if fails_count == fails_count_threshold:\n",
        "      error = f\"Failed to get products list on page {browser.current_url} after {fails_count_threshold} retries.\"\n",
        "      error_log.append(error)\n",
        "      fails_count = 0\n",
        "      i += 1\n",
        "      continue\n",
        "\n",
        "    current_page = section_url + f\"?page={i}\"\n",
        "    print(\"Current page:\", current_page)\n",
        "\n",
        "    browser.get(current_page)\n",
        "    browser.refresh()\n",
        "\n",
        "    header = WebDriverWait(browser, 60).until(ele_present((By.CSS_SELECTOR, \"div[class*='search-header__wrapper']\")))\n",
        "    page_is_empty = header.find_elements(By.CSS_SELECTOR, \"h1[class='search-header__nothing-found--message']\")\n",
        "    if page_is_empty:\n",
        "      return [all_product_names, all_urls, section], error_log\n",
        "\n",
        "    html_element = browser.find_element(By.TAG_NAME, \"html\")\n",
        "    html_element.send_keys(Keys.END)\n",
        "\n",
        "    try:\n",
        "      WebDriverWait(browser, 15).until(ele_present((By.CSS_SELECTOR, \"div[class='product-cell']\")))\n",
        "    except TimeoutException:\n",
        "      fails_count += 1\n",
        "      browser.refresh()\n",
        "      continue\n",
        "\n",
        "    every_product = browser.find_elements(By.CSS_SELECTOR, \"div[class='product-cell']\")\n",
        "\n",
        "    for product in every_product:\n",
        "      if \"firefox\" in browser.capabilities[\"browserName\"]:\n",
        "        scroll_to_ele(browser, product)\n",
        "\n",
        "      product_name = product.find_element(By.CSS_SELECTOR, \"div[class='product-name']\").text\n",
        "      product_url = product.find_element(By.CSS_SELECTOR, \"a[class*='product-link']\").get_attribute(\"href\")\n",
        "\n",
        "      all_product_names.append(product_name)\n",
        "      all_urls.append(product_url)\n",
        "      section.append(section_url.split(\"/\")[-1])\n",
        "    i += 1\n",
        "\n",
        "  # browser.quit()\n",
        "  return [all_product_names, all_urls, section], error_log"
      ],
      "metadata": {
        "id": "TV4cAdUg60iB"
      },
      "execution_count": null,
      "outputs": []
    },
    {
      "cell_type": "code",
      "source": [
        "clothing_sections = [\n",
        "    \"https://www.levi.com/US/en_US/clothing/men/c/levi_clothing_men\",\n",
        "    \"https://www.levi.com/US/en_US/clothing/women/c/levi_clothing_women\"\n",
        "    ]\n",
        "\n",
        "with mp.Pool(initializer=setup_worker_browser, initargs=(driver_path,)) as p:\n",
        "    results = p.map(get_products_list, clothing_sections)"
      ],
      "metadata": {
        "id": "SRSh63uIN-yI",
        "colab": {
          "base_uri": "https://localhost:8080/"
        },
        "outputId": "016a13ff-4260-45f9-a279-2c007881df0a"
      },
      "execution_count": null,
      "outputs": [
        {
          "output_type": "stream",
          "name": "stdout",
          "text": [
            "Current page: https://www.levi.com/US/en_US/clothing/men/c/levi_clothing_men?page=0\n",
            "Current page: https://www.levi.com/US/en_US/clothing/women/c/levi_clothing_women?page=0\n",
            "Current page: https://www.levi.com/US/en_US/clothing/women/c/levi_clothing_women?page=1\n",
            "Current page: https://www.levi.com/US/en_US/clothing/men/c/levi_clothing_men?page=1\n",
            "Current page: https://www.levi.com/US/en_US/clothing/men/c/levi_clothing_men?page=2\n",
            "Current page: https://www.levi.com/US/en_US/clothing/women/c/levi_clothing_women?page=2\n",
            "Current page: https://www.levi.com/US/en_US/clothing/women/c/levi_clothing_women?page=3\n",
            "Current page: https://www.levi.com/US/en_US/clothing/men/c/levi_clothing_men?page=3\n",
            "Current page: https://www.levi.com/US/en_US/clothing/women/c/levi_clothing_women?page=4\n",
            "Current page: https://www.levi.com/US/en_US/clothing/men/c/levi_clothing_men?page=4\n",
            "Current page: https://www.levi.com/US/en_US/clothing/women/c/levi_clothing_women?page=5\n",
            "Current page: https://www.levi.com/US/en_US/clothing/men/c/levi_clothing_men?page=5\n",
            "Current page: https://www.levi.com/US/en_US/clothing/women/c/levi_clothing_women?page=6\n",
            "Current page: https://www.levi.com/US/en_US/clothing/men/c/levi_clothing_men?page=6\n",
            "Current page: https://www.levi.com/US/en_US/clothing/women/c/levi_clothing_women?page=7\n",
            "Current page: https://www.levi.com/US/en_US/clothing/men/c/levi_clothing_men?page=7\n",
            "Current page: https://www.levi.com/US/en_US/clothing/women/c/levi_clothing_women?page=8\n",
            "Current page: https://www.levi.com/US/en_US/clothing/men/c/levi_clothing_men?page=8\n",
            "Current page: https://www.levi.com/US/en_US/clothing/women/c/levi_clothing_women?page=9\n",
            "Current page: https://www.levi.com/US/en_US/clothing/men/c/levi_clothing_men?page=9\n",
            "Current page: https://www.levi.com/US/en_US/clothing/women/c/levi_clothing_women?page=10\n",
            "Current page: https://www.levi.com/US/en_US/clothing/men/c/levi_clothing_men?page=10\n",
            "Current page: https://www.levi.com/US/en_US/clothing/women/c/levi_clothing_women?page=11\n",
            "Current page: https://www.levi.com/US/en_US/clothing/men/c/levi_clothing_men?page=11\n",
            "Current page: https://www.levi.com/US/en_US/clothing/men/c/levi_clothing_men?page=12\n",
            "Current page: https://www.levi.com/US/en_US/clothing/women/c/levi_clothing_women?page=12\n",
            "Current page: https://www.levi.com/US/en_US/clothing/men/c/levi_clothing_men?page=13\n",
            "Current page: https://www.levi.com/US/en_US/clothing/women/c/levi_clothing_women?page=13\n",
            "Current page: https://www.levi.com/US/en_US/clothing/men/c/levi_clothing_men?page=14\n",
            "Current page: https://www.levi.com/US/en_US/clothing/women/c/levi_clothing_women?page=14\n",
            "Current page: https://www.levi.com/US/en_US/clothing/men/c/levi_clothing_men?page=15\n",
            "Current page: https://www.levi.com/US/en_US/clothing/women/c/levi_clothing_women?page=15\n",
            "Current page: https://www.levi.com/US/en_US/clothing/men/c/levi_clothing_men?page=16\n",
            "Current page: https://www.levi.com/US/en_US/clothing/women/c/levi_clothing_women?page=16\n",
            "Current page: https://www.levi.com/US/en_US/clothing/men/c/levi_clothing_men?page=17\n",
            "Current page: https://www.levi.com/US/en_US/clothing/women/c/levi_clothing_women?page=17\n",
            "Current page: https://www.levi.com/US/en_US/clothing/men/c/levi_clothing_men?page=18\n",
            "Current page: https://www.levi.com/US/en_US/clothing/women/c/levi_clothing_women?page=18\n",
            "Current page: https://www.levi.com/US/en_US/clothing/men/c/levi_clothing_men?page=19\n",
            "Current page: https://www.levi.com/US/en_US/clothing/women/c/levi_clothing_women?page=19\n",
            "Current page: https://www.levi.com/US/en_US/clothing/women/c/levi_clothing_women?page=20\n"
          ]
        }
      ]
    },
    {
      "cell_type": "code",
      "source": [
        "all_product_names = []\n",
        "all_urls = []\n",
        "section = []\n",
        "all_errors = []\n",
        "\n",
        "for subtask_result in results:\n",
        "  all_product_names.extend(subtask_result[0][0])\n",
        "  all_urls.extend(subtask_result[0][1])\n",
        "  section.extend(subtask_result[0][2])\n",
        "\n",
        "  all_errors.extend(subtask_result[1])"
      ],
      "metadata": {
        "id": "TmPSRcjdWljR"
      },
      "execution_count": null,
      "outputs": []
    },
    {
      "cell_type": "code",
      "source": [
        "print(\"Products snatched total:\", len(all_urls))\n",
        "print(f\"Errors encountered: {len(all_errors)}\")"
      ],
      "metadata": {
        "id": "_RnRGoJQZjLC",
        "colab": {
          "base_uri": "https://localhost:8080/"
        },
        "outputId": "c94f78a9-9e5b-4120-f68f-abd69d23c88a"
      },
      "execution_count": null,
      "outputs": [
        {
          "output_type": "stream",
          "name": "stdout",
          "text": [
            "Products snatched total: 1366\n",
            "Errors encountered: 0\n"
          ]
        }
      ]
    },
    {
      "cell_type": "code",
      "source": [
        "all_products_df = pd.DataFrame(pd.DataFrame({\"Product_Name\": all_product_names,\n",
        "                                             \"Product_URL\": all_urls,\n",
        "                                             \"Product_Section\": section}))\n",
        "all_products_df = all_products_df.drop_duplicates().reset_index(drop=True)\n",
        "\n",
        "multi_cat = all_products_df[all_products_df.duplicated(subset=[\"Product_Name\",\n",
        "                                                               \"Product_URL\"], keep=False)]\n",
        "multi_cat = multi_cat.groupby(by=[\"Product_Name\", \"Product_URL\"], as_index=False).apply(lambda x: \", \".join(x[\"Product_Section\"]))\n",
        "multi_cat = multi_cat.rename(columns={None : \"Product_Section\"})\n",
        "\n",
        "all_products_df = all_products_df.drop_duplicates(subset=[\"Product_Name\", \"Product_URL\"], keep=False)\n",
        "all_products_df = pd.concat([all_products_df, multi_cat]).sort_values(by=[\"Product_Section\"]).reset_index(drop=True)\n",
        "all_products_df"
      ],
      "metadata": {
        "id": "_4USGlhe2hv1",
        "colab": {
          "base_uri": "https://localhost:8080/",
          "height": 424
        },
        "outputId": "e249027e-5b55-4a4f-b0b4-63146803fd74"
      },
      "execution_count": null,
      "outputs": [
        {
          "output_type": "execute_result",
          "data": {
            "text/plain": [
              "                                        Product_Name  \\\n",
              "0                     Type III Sherpa Trucker Jacket   \n",
              "1                               Stock Trucker Jacket   \n",
              "2     469 Loose Jean 12.5\" Men's Shorts (Big & Tall)   \n",
              "3                   Relaxed Fit Short Sleeve T-Shirt   \n",
              "4                    Levi's® x Vote Relaxed Pullover   \n",
              "...                                              ...   \n",
              "1274                                     Baggy Pants   \n",
              "1275                              Gold Tab™ Tank Top   \n",
              "1276                             Slacker Trench Coat   \n",
              "1277                      Onion Quilted Liner Jacket   \n",
              "1278                          501® '81 Women's Jeans   \n",
              "\n",
              "                                            Product_URL      Product_Section  \n",
              "0             https://www.levi.com/US/en_US/p/163650162    levi_clothing_men  \n",
              "1             https://www.levi.com/US/en_US/p/A07300006    levi_clothing_men  \n",
              "2             https://www.levi.com/US/en_US/p/547910007    levi_clothing_men  \n",
              "3             https://www.levi.com/US/en_US/p/161430729    levi_clothing_men  \n",
              "4             https://www.levi.com/US/en_US/p/384790020    levi_clothing_men  \n",
              "...                                                 ...                  ...  \n",
              "1274          https://www.levi.com/US/en_US/p/A46740005  levi_clothing_women  \n",
              "1275          https://www.levi.com/US/en_US/p/A37150011  levi_clothing_women  \n",
              "1276          https://www.levi.com/US/en_US/p/A44450000  levi_clothing_women  \n",
              "1277          https://www.levi.com/US/en_US/p/595400012  levi_clothing_women  \n",
              "1278  https://www.levi.com/US/en_US/clothing/women/j...  levi_clothing_women  \n",
              "\n",
              "[1279 rows x 3 columns]"
            ],
            "text/html": [
              "\n",
              "  <div id=\"df-a7c98423-1150-414d-ab4f-dd410082db6f\">\n",
              "    <div class=\"colab-df-container\">\n",
              "      <div>\n",
              "<style scoped>\n",
              "    .dataframe tbody tr th:only-of-type {\n",
              "        vertical-align: middle;\n",
              "    }\n",
              "\n",
              "    .dataframe tbody tr th {\n",
              "        vertical-align: top;\n",
              "    }\n",
              "\n",
              "    .dataframe thead th {\n",
              "        text-align: right;\n",
              "    }\n",
              "</style>\n",
              "<table border=\"1\" class=\"dataframe\">\n",
              "  <thead>\n",
              "    <tr style=\"text-align: right;\">\n",
              "      <th></th>\n",
              "      <th>Product_Name</th>\n",
              "      <th>Product_URL</th>\n",
              "      <th>Product_Section</th>\n",
              "    </tr>\n",
              "  </thead>\n",
              "  <tbody>\n",
              "    <tr>\n",
              "      <th>0</th>\n",
              "      <td>Type III Sherpa Trucker Jacket</td>\n",
              "      <td>https://www.levi.com/US/en_US/p/163650162</td>\n",
              "      <td>levi_clothing_men</td>\n",
              "    </tr>\n",
              "    <tr>\n",
              "      <th>1</th>\n",
              "      <td>Stock Trucker Jacket</td>\n",
              "      <td>https://www.levi.com/US/en_US/p/A07300006</td>\n",
              "      <td>levi_clothing_men</td>\n",
              "    </tr>\n",
              "    <tr>\n",
              "      <th>2</th>\n",
              "      <td>469 Loose Jean 12.5\" Men's Shorts (Big &amp; Tall)</td>\n",
              "      <td>https://www.levi.com/US/en_US/p/547910007</td>\n",
              "      <td>levi_clothing_men</td>\n",
              "    </tr>\n",
              "    <tr>\n",
              "      <th>3</th>\n",
              "      <td>Relaxed Fit Short Sleeve T-Shirt</td>\n",
              "      <td>https://www.levi.com/US/en_US/p/161430729</td>\n",
              "      <td>levi_clothing_men</td>\n",
              "    </tr>\n",
              "    <tr>\n",
              "      <th>4</th>\n",
              "      <td>Levi's® x Vote Relaxed Pullover</td>\n",
              "      <td>https://www.levi.com/US/en_US/p/384790020</td>\n",
              "      <td>levi_clothing_men</td>\n",
              "    </tr>\n",
              "    <tr>\n",
              "      <th>...</th>\n",
              "      <td>...</td>\n",
              "      <td>...</td>\n",
              "      <td>...</td>\n",
              "    </tr>\n",
              "    <tr>\n",
              "      <th>1274</th>\n",
              "      <td>Baggy Pants</td>\n",
              "      <td>https://www.levi.com/US/en_US/p/A46740005</td>\n",
              "      <td>levi_clothing_women</td>\n",
              "    </tr>\n",
              "    <tr>\n",
              "      <th>1275</th>\n",
              "      <td>Gold Tab™ Tank Top</td>\n",
              "      <td>https://www.levi.com/US/en_US/p/A37150011</td>\n",
              "      <td>levi_clothing_women</td>\n",
              "    </tr>\n",
              "    <tr>\n",
              "      <th>1276</th>\n",
              "      <td>Slacker Trench Coat</td>\n",
              "      <td>https://www.levi.com/US/en_US/p/A44450000</td>\n",
              "      <td>levi_clothing_women</td>\n",
              "    </tr>\n",
              "    <tr>\n",
              "      <th>1277</th>\n",
              "      <td>Onion Quilted Liner Jacket</td>\n",
              "      <td>https://www.levi.com/US/en_US/p/595400012</td>\n",
              "      <td>levi_clothing_women</td>\n",
              "    </tr>\n",
              "    <tr>\n",
              "      <th>1278</th>\n",
              "      <td>501® '81 Women's Jeans</td>\n",
              "      <td>https://www.levi.com/US/en_US/clothing/women/j...</td>\n",
              "      <td>levi_clothing_women</td>\n",
              "    </tr>\n",
              "  </tbody>\n",
              "</table>\n",
              "<p>1279 rows × 3 columns</p>\n",
              "</div>\n",
              "      <button class=\"colab-df-convert\" onclick=\"convertToInteractive('df-a7c98423-1150-414d-ab4f-dd410082db6f')\"\n",
              "              title=\"Convert this dataframe to an interactive table.\"\n",
              "              style=\"display:none;\">\n",
              "        \n",
              "  <svg xmlns=\"http://www.w3.org/2000/svg\" height=\"24px\"viewBox=\"0 0 24 24\"\n",
              "       width=\"24px\">\n",
              "    <path d=\"M0 0h24v24H0V0z\" fill=\"none\"/>\n",
              "    <path d=\"M18.56 5.44l.94 2.06.94-2.06 2.06-.94-2.06-.94-.94-2.06-.94 2.06-2.06.94zm-11 1L8.5 8.5l.94-2.06 2.06-.94-2.06-.94L8.5 2.5l-.94 2.06-2.06.94zm10 10l.94 2.06.94-2.06 2.06-.94-2.06-.94-.94-2.06-.94 2.06-2.06.94z\"/><path d=\"M17.41 7.96l-1.37-1.37c-.4-.4-.92-.59-1.43-.59-.52 0-1.04.2-1.43.59L10.3 9.45l-7.72 7.72c-.78.78-.78 2.05 0 2.83L4 21.41c.39.39.9.59 1.41.59.51 0 1.02-.2 1.41-.59l7.78-7.78 2.81-2.81c.8-.78.8-2.07 0-2.86zM5.41 20L4 18.59l7.72-7.72 1.47 1.35L5.41 20z\"/>\n",
              "  </svg>\n",
              "      </button>\n",
              "      \n",
              "  <style>\n",
              "    .colab-df-container {\n",
              "      display:flex;\n",
              "      flex-wrap:wrap;\n",
              "      gap: 12px;\n",
              "    }\n",
              "\n",
              "    .colab-df-convert {\n",
              "      background-color: #E8F0FE;\n",
              "      border: none;\n",
              "      border-radius: 50%;\n",
              "      cursor: pointer;\n",
              "      display: none;\n",
              "      fill: #1967D2;\n",
              "      height: 32px;\n",
              "      padding: 0 0 0 0;\n",
              "      width: 32px;\n",
              "    }\n",
              "\n",
              "    .colab-df-convert:hover {\n",
              "      background-color: #E2EBFA;\n",
              "      box-shadow: 0px 1px 2px rgba(60, 64, 67, 0.3), 0px 1px 3px 1px rgba(60, 64, 67, 0.15);\n",
              "      fill: #174EA6;\n",
              "    }\n",
              "\n",
              "    [theme=dark] .colab-df-convert {\n",
              "      background-color: #3B4455;\n",
              "      fill: #D2E3FC;\n",
              "    }\n",
              "\n",
              "    [theme=dark] .colab-df-convert:hover {\n",
              "      background-color: #434B5C;\n",
              "      box-shadow: 0px 1px 3px 1px rgba(0, 0, 0, 0.15);\n",
              "      filter: drop-shadow(0px 1px 2px rgba(0, 0, 0, 0.3));\n",
              "      fill: #FFFFFF;\n",
              "    }\n",
              "  </style>\n",
              "\n",
              "      <script>\n",
              "        const buttonEl =\n",
              "          document.querySelector('#df-a7c98423-1150-414d-ab4f-dd410082db6f button.colab-df-convert');\n",
              "        buttonEl.style.display =\n",
              "          google.colab.kernel.accessAllowed ? 'block' : 'none';\n",
              "\n",
              "        async function convertToInteractive(key) {\n",
              "          const element = document.querySelector('#df-a7c98423-1150-414d-ab4f-dd410082db6f');\n",
              "          const dataTable =\n",
              "            await google.colab.kernel.invokeFunction('convertToInteractive',\n",
              "                                                     [key], {});\n",
              "          if (!dataTable) return;\n",
              "\n",
              "          const docLinkHtml = 'Like what you see? Visit the ' +\n",
              "            '<a target=\"_blank\" href=https://colab.research.google.com/notebooks/data_table.ipynb>data table notebook</a>'\n",
              "            + ' to learn more about interactive tables.';\n",
              "          element.innerHTML = '';\n",
              "          dataTable['output_type'] = 'display_data';\n",
              "          await google.colab.output.renderOutput(dataTable, element);\n",
              "          const docLink = document.createElement('div');\n",
              "          docLink.innerHTML = docLinkHtml;\n",
              "          element.appendChild(docLink);\n",
              "        }\n",
              "      </script>\n",
              "    </div>\n",
              "  </div>\n",
              "  "
            ]
          },
          "metadata": {},
          "execution_count": 27
        }
      ]
    },
    {
      "cell_type": "markdown",
      "source": [
        "# Common variables for each experiment"
      ],
      "metadata": {
        "id": "ZBSC9xaOgeqE"
      }
    },
    {
      "cell_type": "code",
      "source": [
        "all_products_df = pd.read_csv(\"products_levi.csv\")\n",
        "all_products_df"
      ],
      "metadata": {
        "id": "HgvplexNh2Pu"
      },
      "execution_count": null,
      "outputs": []
    },
    {
      "cell_type": "code",
      "source": [
        "products_iter = list(all_products_df.itertuples(name=None))[:prod_num]"
      ],
      "metadata": {
        "id": "IUo4Lek0qIpf"
      },
      "execution_count": null,
      "outputs": []
    },
    {
      "cell_type": "code",
      "source": [
        "prod_num = 50"
      ],
      "metadata": {
        "id": "qv5JjIE3gl4-"
      },
      "execution_count": null,
      "outputs": []
    },
    {
      "cell_type": "markdown",
      "source": [
        "# Multiprocessing + multithreading"
      ],
      "metadata": {
        "id": "bvnXm0Bys9jA"
      }
    },
    {
      "cell_type": "code",
      "source": [
        "def get_images(df_row, local):\n",
        "  browser = local.browser\n",
        "\n",
        "  Product_Name = []\n",
        "  Product_URL = []\n",
        "  Product_original_URL = []\n",
        "  Product_ID = []\n",
        "  Product_Color = []\n",
        "  Product_Categories = []\n",
        "  Image_URL = []\n",
        "\n",
        "  error_log_products = []\n",
        "  error_log_swatches = []\n",
        "\n",
        "  cur_name = df_row[1]\n",
        "  cur_url = df_row[2]\n",
        "  cur_section = df_row[3]\n",
        "\n",
        "  try:\n",
        "    print(f\"Current product: {cur_name}, url: {cur_url}\")\n",
        "    browser.get(cur_url)\n",
        "\n",
        "    url_template = cur_url.split(\"/\")\n",
        "\n",
        "    WebDriverWait(browser, 30).until(ele_present((By.CSS_SELECTOR, \"div[class='lsco-row product-details__top']\")))\n",
        "    product_details = try_to_get_ele(browser, css_selector=\"div[class='lsco-row product-details__top']\")\n",
        "\n",
        "    if \"firefox\" in browser.capabilities[\"browserName\"]:\n",
        "      scroll_to_ele(browser, product_details)\n",
        "\n",
        "    every_prod_swatch = WebDriverWait(product_details, 30).until(EC.presence_of_all_elements_located((By.CSS_SELECTOR,\n",
        "                                                                                                      \"li[class*='swatch swatch-wrapper']\")))\n",
        "    success = False\n",
        "    try_n = 0\n",
        "    sleep_timer = 0.2\n",
        "    max_retries = int(5 / sleep_timer)\n",
        "    while (not success) and (try_n < max_retries):\n",
        "      try:\n",
        "        swatch_codes = []\n",
        "        swatch_colors = []\n",
        "        for swatch in every_prod_swatch:\n",
        "          swatch_border = swatch.find_element(By.TAG_NAME, \"button\")\n",
        "          swatch_codes.append(swatch.get_attribute(\"code\"))\n",
        "          swatch_colors.append(swatch_border.get_attribute(\"aria-label\"))\n",
        "        success = True\n",
        "      except StaleElementReferenceException:\n",
        "        time.sleep(sleep_timer)\n",
        "        every_prod_swatch = product_details.find_elements(By.CSS_SELECTOR, \"li[class*='swatch swatch-wrapper']\")\n",
        "        try_n += 1\n",
        "\n",
        "    if try_n == max_retries:\n",
        "      raise TimeoutError(f\"Failed to get swatch codes list\")\n",
        "\n",
        "    for swatch_code, swatch_color in zip(swatch_codes, swatch_colors):\n",
        "      try:\n",
        "        url = url_template.copy()\n",
        "        url[-1] = f\"{swatch_code}#swatch\"\n",
        "        swatch_url = \"/\".join(url)\n",
        "\n",
        "        max_retries = 5\n",
        "        try_n = 0\n",
        "        success = False\n",
        "        while (not success) and (try_n < max_retries):\n",
        "          try:\n",
        "            browser.get(swatch_url)\n",
        "            browser.refresh()\n",
        "\n",
        "            WebDriverWait(browser, 15).until(ele_present((By.CSS_SELECTOR, \"div[class='lsco-row product-details__top']\")))\n",
        "            product_details = try_to_get_ele(browser, css_selector=\"div[class='lsco-row product-details__top']\")\n",
        "            success = True\n",
        "          except TimeoutException:\n",
        "            try_n += 1\n",
        "\n",
        "        if try_n == max_retries:\n",
        "          raise TimeoutError(f\"Failed to get swatch\")\n",
        "\n",
        "        if \"firefox\" in browser.capabilities[\"browserName\"]:\n",
        "          scroll_to_ele(browser, product_details)\n",
        "\n",
        "        product_details_breadcrumbs = try_to_get_ele(browser, css_selector=\"div[class='lsco-row product-details__breadcrumbs']\")\n",
        "        WebDriverWait(product_details_breadcrumbs, 30).until(ele_present((By.CSS_SELECTOR, \"li[class='pdp-breadcrumbs__list-item'][aria-current='page']\")))\n",
        "        prod_categories_elements = product_details_breadcrumbs.find_elements(By.CSS_SELECTOR, \"li[class='pdp-breadcrumbs__list-item']\")\n",
        "        prod_categories = [ele.get_attribute(\"aria-label\") for ele in prod_categories_elements]\n",
        "\n",
        "        img_urls = set()\n",
        "        while True:\n",
        "          every_prod_thumbnail = product_details.find_elements(By.CSS_SELECTOR, \"button[class*='product-media-thumbnail']\")\n",
        "          for prod_thumbnail in every_prod_thumbnail:\n",
        "            is_video = prod_thumbnail.find_elements(By.TAG_NAME, \"svg\")\n",
        "            if not is_video:\n",
        "              img_url = prod_thumbnail.find_element(By.TAG_NAME, \"img\").get_attribute(\"data-src\")\n",
        "              img_urls.add(img_url)\n",
        "          next_btn = product_details.find_elements(By.CSS_SELECTOR, \"button[class='view-next-btn']\")\n",
        "          if next_btn:\n",
        "            browser.execute_script(\"arguments[0].click();\", next_btn[0])\n",
        "          else:\n",
        "            break\n",
        "\n",
        "        for img_url in img_urls:\n",
        "          img_url = img_url.replace(\"wid=150&hei=150\", \"wid=900&hei=982\")\n",
        "          img_url = img_url.replace(\"fmt=avif\", \"fmt=jpg\")\n",
        "\n",
        "          Product_Name.append(prod_categories[-1])\n",
        "          Product_URL.append(swatch_url)\n",
        "          Product_original_URL.append(cur_url)\n",
        "          Product_ID.append(swatch_code)\n",
        "          Product_Color.append(swatch_color)\n",
        "          Product_Categories.append(\", \".join(prod_categories[:-1]))\n",
        "          Image_URL.append(img_url)\n",
        "\n",
        "      except Exception as e:\n",
        "        print(f\"Failed to get swatch {swatch_url} for product {cur_url}, skipping\")\n",
        "        print(e.__class__.__name__ )\n",
        "        error = {}\n",
        "        error[\"Product_URL\"] = cur_url\n",
        "        error[\"Product_Swatch_URL\"] = swatch_url\n",
        "        error[\"Product_Section\"] = cur_section\n",
        "        error[\"Error_Type\"] = e.__class__.__name__\n",
        "        error[\"Error_Message\"] = e\n",
        "        error_log_swatches.append(error)\n",
        "  except Exception as e:\n",
        "      print(f\"Failed to get product {cur_url}, skipping\")\n",
        "      print(e.__class__.__name__ )\n",
        "      error = {}\n",
        "      error[\"Product_URL\"] = cur_url\n",
        "      error[\"Product_Section\"] = cur_section\n",
        "      error[\"Error_Type\"] = e.__class__.__name__\n",
        "      error[\"Error_Message\"] = e\n",
        "      error_log_products.append(error)\n",
        "  return [Product_Name, Product_URL, Product_original_URL, Product_ID, Product_Color, Product_Categories, Image_URL], error_log_products, error_log_swatches"
      ],
      "metadata": {
        "id": "0MP2yBbybXqC"
      },
      "execution_count": null,
      "outputs": []
    },
    {
      "cell_type": "code",
      "source": [
        "def initialize_thread_worker(local, driver_path):\n",
        "  options = webdriver.FirefoxOptions()\n",
        "  options.add_argument(\"start-maximized\")\n",
        "  options.add_argument(\"--headless\")\n",
        "\n",
        "  driver_service = Service(driver_path)\n",
        "\n",
        "  browser = webdriver.Firefox(options=options, service=driver_service)\n",
        "  browser.command_executor.set_timeout(30)\n",
        "  local.browser = browser\n",
        "\n",
        "\n",
        "def get_images_with_threads(split_prod_list, driver_path):\n",
        "  split_prod_list = split_prod_list.tolist()\n",
        "\n",
        "  Product_Name = []\n",
        "  Product_URL = []\n",
        "  Product_original_URL = []\n",
        "  Product_ID = []\n",
        "  Product_Color = []\n",
        "  Product_Categories = []\n",
        "  Image_URL = []\n",
        "\n",
        "  error_log_products = []\n",
        "  error_log_swatches = []\n",
        "\n",
        "  local = threading.local()\n",
        "  with ThreadPoolExecutor(max_workers=6, initializer=initialize_thread_worker, initargs=(local, driver_path,)) as pool:\n",
        "    results = pool.map(get_images, split_prod_list, repeat(local))\n",
        "\n",
        "  for subtask_result in results:\n",
        "    Product_Name.extend(subtask_result[0][0])\n",
        "    Product_URL.extend(subtask_result[0][1])\n",
        "    Product_original_URL.extend(subtask_result[0][2])\n",
        "    Product_ID.extend(subtask_result[0][3])\n",
        "    Product_Color.extend(subtask_result[0][4])\n",
        "    Product_Categories.extend(subtask_result[0][5])\n",
        "    Image_URL.extend(subtask_result[0][6])\n",
        "\n",
        "    error_log_products.extend(subtask_result[1])\n",
        "    error_log_swatches.extend(subtask_result[2])\n",
        "  return [Product_Name, Product_URL, Product_original_URL, Product_ID, Product_Color, Product_Categories, Image_URL], error_log_products, error_log_swatches"
      ],
      "metadata": {
        "id": "p9y4qkCxQjUt"
      },
      "execution_count": null,
      "outputs": []
    },
    {
      "cell_type": "code",
      "source": [
        "start = datetime.now()\n",
        "print(\"Start:\", start.strftime(\"%H:%M:%S\"))"
      ],
      "metadata": {
        "colab": {
          "base_uri": "https://localhost:8080/"
        },
        "id": "1_sxY_3n6RTX",
        "outputId": "baf3198b-21ae-45bd-cedc-3106a6d5c1b7"
      },
      "execution_count": null,
      "outputs": [
        {
          "output_type": "stream",
          "name": "stdout",
          "text": [
            "Start: 16:00:54\n"
          ]
        }
      ]
    },
    {
      "cell_type": "code",
      "source": [
        "split_prod_list = np.array_split(products_iter, os.cpu_count())\n",
        "\n",
        "with mp.Pool() as p:\n",
        "    results = p.map(get_images_with_threads, split_prod_list, repeat(driver_path))"
      ],
      "metadata": {
        "colab": {
          "base_uri": "https://localhost:8080/"
        },
        "id": "cpUD6E0aRAQI",
        "outputId": "448d342a-ff22-4a88-8104-756b06dc4325"
      },
      "execution_count": null,
      "outputs": [
        {
          "output_type": "stream",
          "name": "stdout",
          "text": [
            "Current product: Classic Western Shirt (Big), url: https://www.levi.com/US/en_US/p/574230007\n",
            "Current product: 501® Slim Taper Fit Men's Jeans, url: https://www.levi.com/US/en_US/p/288940241\n",
            "Current product: Short Sleeve Slouchy Button Up Shirt, url: https://www.levi.com/US/en_US/p/A19210001\n",
            "Current product: Type III Sherpa Trucker Jacket, url: https://www.levi.com/US/en_US/p/163650162\n",
            "Current product: Stock Trucker Jacket, url: https://www.levi.com/US/en_US/p/A07300006\n",
            "Current product: Stay Loose Pocket T-Shirt, url: https://www.levi.com/US/en_US/p/A40770000\n",
            "Current product: 469 Loose Jean 12.5\" Men's Shorts (Big & Tall), url: https://www.levi.com/US/en_US/p/547910007\n",
            "Current product: Relaxed Fit Short Sleeve T-Shirt, url: https://www.levi.com/US/en_US/p/161430729\n",
            "Current product: Trucker Jacket, url: https://www.levi.com/US/en_US/p/A31790001\n",
            "Current product: Levi's® x Vote Relaxed Pullover, url: https://www.levi.com/US/en_US/p/384790020\n",
            "Current product: Portola Chore Coat, url: https://www.levi.com/US/en_US/p/A06810002\n",
            "Current product: Relaxed Fit Short Sleeve T-Shirt, url: https://www.levi.com/US/en_US/p/161430577\n",
            "Current product: Bartlett Utility Jacket, url: https://www.levi.com/US/en_US/p/A32080000\n",
            "Current product: Two Horse Graphic Tee Shirt, url: https://www.levi.com/US/en_US/p/224950041\n",
            "Current product: 512™ Slim Taper Levi's® Flex Men's Jeans, url: https://www.levi.com/US/en_US/p/288330794\n",
            "Failed to get product https://www.levi.com/US/en_US/p/224950041, skipping\n",
            "TimeoutException\n",
            "Current product: Vintage Relaxed Fit Corduroy Trucker Jacket, url: https://www.levi.com/US/en_US/p/852480030\n",
            "Current product: Artist T-Shirt, url: https://www.levi.com/US/en_US/p/577880007\n",
            "Current product: Varsity Relaxed Raglan Crewneck Sweatshirt, url: https://www.levi.com/US/en_US/p/A33140002\n",
            "Current product: Union Rugby Shirt, url: https://www.levi.com/US/en_US/p/A48450004\n",
            "Current product: Chenango Reversible Belt, url: https://www.levi.com/US/en_US/p/380160352\n",
            "Current product: 527™ Slim Bootcut Men's Jeans, url: https://www.levi.com/US/en_US/p/055270685\n",
            "Current product: Sportswear Logo Tee Shirt, url: https://www.levi.com/US/en_US/p/396360002\n",
            "Current product: Sunset Camp Shirt, url: https://www.levi.com/US/en_US/p/726250058\n",
            "Current product: Relaxed Pocket Tee, url: https://www.levi.com/US/en_US/p/343100026\n",
            "Current product: Graphic Relaxed Henley Crewneck Sweatshirt, url: https://www.levi.com/US/en_US/p/A34700001\n",
            "Current product: 1940's Split Hem T-Shirt, url: https://www.levi.com/US/en_US/p/392030012\n",
            "Current product: Classic Long Sleeve Rugby Shirt, url: https://www.levi.com/US/en_US/p/A31200002\n",
            "Current product: Short Sleeve Classic 1 Pocket Standard Fit Shirt, url: https://www.levi.com/US/en_US/p/866270107\n",
            "Current product: Denim Super Puffer Jacket, url: https://www.levi.com/US/en_US/p/A07260002\n",
            "Current product: 501® '93 Cut Off 7\" Men's Shorts, url: https://www.levi.com/US/en_US/p/852210012\n",
            "Current product: Vintage Relaxed Fit Sherpa Corduroy Trucker Jacket, url: https://www.levi.com/US/en_US/p/791290033\n",
            "Current product: Vintage Relaxed Fit Trucker Jacket, url: https://www.levi.com/US/en_US/p/852480013\n",
            "Current product: Varsity Relaxed Fit Raglan Hoodie Sweatshirt, url: https://www.levi.com/US/en_US/p/A36500000\n",
            "Current product: Short Sleeve Sunset One Pocket Shirt, url: https://www.levi.com/US/en_US/p/866240035\n",
            "Current product: Red Tab™ Long Sleeve T-Shirt, url: https://www.levi.com/US/en_US/p/A06420025\n",
            "Current product: Artist T-Shirt, url: https://www.levi.com/US/en_US/p/577880019\n",
            "Current product: Stay Loose Quilted Type II Trucker Jacket, url: https://www.levi.com/US/en_US/p/A07590000\n",
            "Current product: Levi's® XX Chino EZ Waist Taper Fit Men's Pants, url: https://www.levi.com/US/en_US/p/A10400017\n",
            "Current product: Levi's® Logo Relaxed Fit Short Sleeve T-Shirt, url: https://www.levi.com/US/en_US/p/161430651\n",
            "Current product: Jackson Worker Shirt (Big), url: https://www.levi.com/US/en_US/p/868960002\n",
            "Current product: Relaxed Fit Short Sleeve T-Shirt (Tall), url: https://www.levi.com/US/en_US/p/871140012\n",
            "Current product: Camping Hoodie Jacket, url: https://www.levi.com/US/en_US/p/594910209\n",
            "Current product: 511™ Slim Cut-Off Tie Dye 10-11\" Men's Shorts, url: https://www.levi.com/US/en_US/p/365550338\n",
            "Current product: Vintage Fit Trucker Jacket, url: https://www.levi.com/US/en_US/p/852480001\n",
            "Current product: Quilted Woodsman Puffer Jacket, url: https://www.levi.com/US/en_US/p/594930016\n",
            "Current product: Jackson Worker Flannel Overshirt, url: https://www.levi.com/US/en_US/p/195730173\n",
            "Current product: Classic T-Shirt, url: https://www.levi.com/US/en_US/p/A21340007\n",
            "Current product: Relaxed Graphic Hoodie Sweatshirt, url: https://www.levi.com/US/en_US/p/384790138\n",
            "Current product: Denim One Pocket Short Sleeve Shirt, url: https://www.levi.com/US/en_US/p/866270039\n",
            "Current product: Classic Camp Shirt, url: https://www.levi.com/US/en_US/p/219760044\n"
          ]
        }
      ]
    },
    {
      "cell_type": "code",
      "source": [
        "finish = datetime.now()\n",
        "print(\"Finish:\", finish.strftime(\"%H:%M:%S\"))\n",
        "print()\n",
        "print(\"Time taken:\", str(finish - start).split(\".\")[0])"
      ],
      "metadata": {
        "colab": {
          "base_uri": "https://localhost:8080/"
        },
        "id": "6rVssvOU3lNE",
        "outputId": "634b7761-52e7-46e3-bb79-729a4535ee4e"
      },
      "execution_count": null,
      "outputs": [
        {
          "output_type": "stream",
          "name": "stdout",
          "text": [
            "Finish: 17:49:05\n",
            "\n",
            "Time taken: 1:48:10\n"
          ]
        }
      ]
    },
    {
      "cell_type": "code",
      "source": [
        "Product_Name = []\n",
        "Product_URL = []\n",
        "Product_original_URL = []\n",
        "Product_ID = []\n",
        "Product_Color = []\n",
        "Product_Categories = []\n",
        "Image_URL = []\n",
        "\n",
        "error_log_products = []\n",
        "error_log_swatches = []\n",
        "\n",
        "for subtask_result in results:\n",
        "  Product_Name.extend(subtask_result[0][0])\n",
        "  Product_URL.extend(subtask_result[0][1])\n",
        "  Product_original_URL.extend(subtask_result[0][2])\n",
        "  Product_ID.extend(subtask_result[0][3])\n",
        "  Product_Color.extend(subtask_result[0][4])\n",
        "  Product_Categories.extend(subtask_result[0][5])\n",
        "  Image_URL.extend(subtask_result[0][6])\n",
        "\n",
        "  error_log_products.extend(subtask_result[1])\n",
        "  error_log_swatches.extend(subtask_result[2])"
      ],
      "metadata": {
        "id": "OceVglSTo5yZ"
      },
      "execution_count": null,
      "outputs": []
    },
    {
      "cell_type": "code",
      "source": [
        "print(\"Images snatched total:\", len(Image_URL))\n",
        "print(f\"Errors encountered during product scrapping: {len(error_log_products)}\")\n",
        "print(f\"Errors encountered during color swatch scrapping: {len(error_log_swatches)}\")"
      ],
      "metadata": {
        "colab": {
          "base_uri": "https://localhost:8080/"
        },
        "id": "8iVIZOM9o51K",
        "outputId": "6f0e0c1c-221f-4348-c441-8bad0b86b41f"
      },
      "execution_count": null,
      "outputs": [
        {
          "output_type": "stream",
          "name": "stdout",
          "text": [
            "Images snatched total: 264\n",
            "Errors encountered during product scrapping: 1\n",
            "Errors encountered during color swatch scrapping: 0\n"
          ]
        }
      ]
    },
    {
      "cell_type": "code",
      "source": [
        "# products_dict_mp = {\n",
        "#     \"Product_Name\": Product_Name,\n",
        "#     \"Product_URL\": Product_URL,\n",
        "#     \"Product_original_URL\": Product_original_URL,\n",
        "#     \"Product_ID\": Product_ID,\n",
        "#     \"Product_Color\": Product_Color,\n",
        "#     \"Product_Categories\": Product_Categories,\n",
        "#     \"Image_URL\": Image_URL\n",
        "#     }"
      ],
      "metadata": {
        "id": "RK7Oo5KsS6dD"
      },
      "execution_count": null,
      "outputs": []
    },
    {
      "cell_type": "code",
      "source": [
        "# df_mp = pd.DataFrame.from_dict(products_dict_mp)\n",
        "# df_mp"
      ],
      "metadata": {
        "id": "Ymf3JhNpTFww"
      },
      "execution_count": null,
      "outputs": []
    },
    {
      "cell_type": "code",
      "source": [
        "# df_mp.groupby(by=[\"Product_original_URL\"]).ngroups"
      ],
      "metadata": {
        "id": "AXpaDNmFYyL5"
      },
      "execution_count": null,
      "outputs": []
    },
    {
      "cell_type": "markdown",
      "source": [
        "# Multiprocessing"
      ],
      "metadata": {
        "id": "lbx82jmwsjhq"
      }
    },
    {
      "cell_type": "code",
      "source": [
        "def get_images(df_row):\n",
        "  Product_Name = []\n",
        "  Product_URL = []\n",
        "  Product_original_URL = []\n",
        "  Product_ID = []\n",
        "  Product_Color = []\n",
        "  Product_Categories = []\n",
        "  Image_URL = []\n",
        "\n",
        "  error_log_products = []\n",
        "  error_log_swatches = []\n",
        "\n",
        "  cur_name = df_row[1]\n",
        "  cur_url = df_row[2]\n",
        "  cur_section = df_row[3]\n",
        "\n",
        "  try:\n",
        "    print(f\"Current product: {cur_name}, url: {cur_url}\")\n",
        "    browser.get(cur_url)\n",
        "\n",
        "    url_template = cur_url.split(\"/\")\n",
        "\n",
        "    WebDriverWait(browser, 30).until(ele_present((By.CSS_SELECTOR, \"div[class='lsco-row product-details__top']\")))\n",
        "    product_details = try_to_get_ele(browser, css_selector=\"div[class='lsco-row product-details__top']\")\n",
        "\n",
        "    if \"firefox\" in browser.capabilities[\"browserName\"]:\n",
        "      scroll_to_ele(browser, product_details)\n",
        "\n",
        "    every_prod_swatch = WebDriverWait(product_details, 30).until(EC.presence_of_all_elements_located((By.CSS_SELECTOR,\n",
        "                                                                                                      \"li[class*='swatch swatch-wrapper']\")))\n",
        "    success = False\n",
        "    try_n = 0\n",
        "    sleep_timer = 0.2\n",
        "    max_retries = int(5 / sleep_timer)\n",
        "    while (not success) and (try_n < max_retries):\n",
        "      try:\n",
        "        swatch_codes = []\n",
        "        swatch_colors = []\n",
        "        for swatch in every_prod_swatch:\n",
        "          swatch_border = swatch.find_element(By.TAG_NAME, \"button\")\n",
        "          swatch_codes.append(swatch.get_attribute(\"code\"))\n",
        "          swatch_colors.append(swatch_border.get_attribute(\"aria-label\"))\n",
        "        success = True\n",
        "      except StaleElementReferenceException:\n",
        "        time.sleep(sleep_timer)\n",
        "        every_prod_swatch = product_details.find_elements(By.CSS_SELECTOR, \"li[class*='swatch swatch-wrapper']\")\n",
        "        try_n += 1\n",
        "\n",
        "    if try_n == max_retries:\n",
        "      raise TimeoutError(f\"Failed to get swatch codes list\")\n",
        "\n",
        "    for swatch_code, swatch_color in zip(swatch_codes, swatch_colors):\n",
        "      try:\n",
        "        url = url_template.copy()\n",
        "        url[-1] = f\"{swatch_code}#swatch\"\n",
        "        swatch_url = \"/\".join(url)\n",
        "\n",
        "        max_retries = 5\n",
        "        try_n = 0\n",
        "        success = False\n",
        "        while (not success) and (try_n < max_retries):\n",
        "          try:\n",
        "            browser.get(swatch_url)\n",
        "            browser.refresh()\n",
        "\n",
        "            WebDriverWait(browser, 15).until(ele_present((By.CSS_SELECTOR, \"div[class='lsco-row product-details__top']\")))\n",
        "            product_details = try_to_get_ele(browser, css_selector=\"div[class='lsco-row product-details__top']\")\n",
        "            success = True\n",
        "          except TimeoutException:\n",
        "            try_n += 1\n",
        "\n",
        "        if try_n == max_retries:\n",
        "          raise TimeoutError(f\"Failed to get swatch\")\n",
        "\n",
        "        if \"firefox\" in browser.capabilities[\"browserName\"]:\n",
        "          scroll_to_ele(browser, product_details)\n",
        "\n",
        "        product_details_breadcrumbs = try_to_get_ele(browser, css_selector=\"div[class='lsco-row product-details__breadcrumbs']\")\n",
        "        WebDriverWait(product_details_breadcrumbs, 30).until(ele_present((By.CSS_SELECTOR, \"li[class='pdp-breadcrumbs__list-item'][aria-current='page']\")))\n",
        "        prod_categories_elements = product_details_breadcrumbs.find_elements(By.CSS_SELECTOR, \"li[class='pdp-breadcrumbs__list-item']\")\n",
        "        prod_categories = [ele.get_attribute(\"aria-label\") for ele in prod_categories_elements]\n",
        "\n",
        "        img_urls = set()\n",
        "        while True:\n",
        "          every_prod_thumbnail = product_details.find_elements(By.CSS_SELECTOR, \"button[class*='product-media-thumbnail']\")\n",
        "          for prod_thumbnail in every_prod_thumbnail:\n",
        "            is_video = prod_thumbnail.find_elements(By.TAG_NAME, \"svg\")\n",
        "            if not is_video:\n",
        "              img_url = prod_thumbnail.find_element(By.TAG_NAME, \"img\").get_attribute(\"data-src\")\n",
        "              img_urls.add(img_url)\n",
        "          next_btn = product_details.find_elements(By.CSS_SELECTOR, \"button[class='view-next-btn']\")\n",
        "          if next_btn:\n",
        "            browser.execute_script(\"arguments[0].click();\", next_btn[0])\n",
        "          else:\n",
        "            break\n",
        "\n",
        "        for img_url in img_urls:\n",
        "          img_url = img_url.replace(\"wid=150&hei=150\", \"wid=900&hei=982\")\n",
        "          img_url = img_url.replace(\"fmt=avif\", \"fmt=jpg\")\n",
        "\n",
        "          Product_Name.append(prod_categories[-1])\n",
        "          Product_URL.append(swatch_url)\n",
        "          Product_original_URL.append(cur_url)\n",
        "          Product_ID.append(swatch_code)\n",
        "          Product_Color.append(swatch_color)\n",
        "          Product_Categories.append(\", \".join(prod_categories[:-1]))\n",
        "          Image_URL.append(img_url)\n",
        "\n",
        "      except Exception as e:\n",
        "        print(f\"Failed to get swatch {swatch_url} for product {cur_url}, skipping\")\n",
        "        print(e.__class__.__name__ )\n",
        "        error = {}\n",
        "        error[\"Product_URL\"] = cur_url\n",
        "        error[\"Product_Swatch_URL\"] = swatch_url\n",
        "        error[\"Product_Section\"] = cur_section\n",
        "        error[\"Error_Type\"] = e.__class__.__name__\n",
        "        error[\"Error_Message\"] = e\n",
        "        error_log_swatches.append(error)\n",
        "  except Exception as e:\n",
        "      print(f\"Failed to get product {cur_url}, skipping\")\n",
        "      print(e.__class__.__name__ )\n",
        "      error = {}\n",
        "      error[\"Product_URL\"] = cur_url\n",
        "      error[\"Product_Section\"] = cur_section\n",
        "      error[\"Error_Type\"] = e.__class__.__name__\n",
        "      error[\"Error_Message\"] = e\n",
        "      error_log_products.append(error)\n",
        "  return [Product_Name, Product_URL, Product_original_URL, Product_ID, Product_Color, Product_Categories, Image_URL], error_log_products, error_log_swatches"
      ],
      "metadata": {
        "id": "z3cYwlL-s5sN"
      },
      "execution_count": null,
      "outputs": []
    },
    {
      "cell_type": "code",
      "source": [
        "start = datetime.now()\n",
        "print(\"Start:\", start.strftime(\"%H:%M:%S\"))"
      ],
      "metadata": {
        "colab": {
          "base_uri": "https://localhost:8080/"
        },
        "id": "TcYYMFVQsFGf",
        "outputId": "3c44e288-debf-4ad2-a37b-a60a7444799a"
      },
      "execution_count": null,
      "outputs": [
        {
          "output_type": "stream",
          "name": "stdout",
          "text": [
            "Start: 19:58:12\n"
          ]
        }
      ]
    },
    {
      "cell_type": "code",
      "source": [
        "with mp.Pool(initializer=setup_worker_browser, initargs=(driver_path,)) as p:\n",
        "    results = p.map(get_images, products_iter)"
      ],
      "metadata": {
        "colab": {
          "base_uri": "https://localhost:8080/"
        },
        "id": "pStBRkP1sJDL",
        "outputId": "e43ed007-f405-468a-ec71-b236f27bd3f0"
      },
      "execution_count": null,
      "outputs": [
        {
          "output_type": "stream",
          "name": "stdout",
          "text": [
            "Current product: Type III Sherpa Trucker Jacket, url: https://www.levi.com/US/en_US/p/163650162\n",
            "Current product: Varsity Relaxed Raglan Crewneck Sweatshirt, url: https://www.levi.com/US/en_US/p/A33140002\n",
            "Current product: Union Rugby Shirt, url: https://www.levi.com/US/en_US/p/A48450004\n",
            "Current product: Stock Trucker Jacket, url: https://www.levi.com/US/en_US/p/A07300006\n",
            "Current product: Chenango Reversible Belt, url: https://www.levi.com/US/en_US/p/380160352\n",
            "Current product: 469 Loose Jean 12.5\" Men's Shorts (Big & Tall), url: https://www.levi.com/US/en_US/p/547910007\n",
            "Current product: Sportswear Logo Tee Shirt, url: https://www.levi.com/US/en_US/p/396360002\n",
            "Current product: Relaxed Fit Short Sleeve T-Shirt, url: https://www.levi.com/US/en_US/p/161430729\n",
            "Current product: Relaxed Pocket Tee, url: https://www.levi.com/US/en_US/p/343100026\n",
            "Current product: Levi's® x Vote Relaxed Pullover, url: https://www.levi.com/US/en_US/p/384790020\n"
          ]
        }
      ]
    },
    {
      "cell_type": "code",
      "source": [
        "finish = datetime.now()\n",
        "print(\"Finish:\", finish.strftime(\"%H:%M:%S\"))\n",
        "print()\n",
        "print(\"Time taken:\", str(finish - start).split(\".\")[0])"
      ],
      "metadata": {
        "id": "_OTFcNHYsUm_"
      },
      "execution_count": null,
      "outputs": []
    },
    {
      "cell_type": "code",
      "source": [
        "Product_Name = []\n",
        "Product_URL = []\n",
        "Product_original_URL = []\n",
        "Product_ID = []\n",
        "Product_Color = []\n",
        "Product_Categories = []\n",
        "Image_URL = []\n",
        "\n",
        "error_log_products = []\n",
        "error_log_swatches = []\n",
        "\n",
        "for subtask_result in results:\n",
        "  Product_Name.extend(subtask_result[0][0])\n",
        "  Product_URL.extend(subtask_result[0][1])\n",
        "  Product_original_URL.extend(subtask_result[0][2])\n",
        "  Product_ID.extend(subtask_result[0][3])\n",
        "  Product_Color.extend(subtask_result[0][4])\n",
        "  Product_Categories.extend(subtask_result[0][5])\n",
        "  Image_URL.extend(subtask_result[0][6])\n",
        "\n",
        "  error_log_products.extend(subtask_result[1])\n",
        "  error_log_swatches.extend(subtask_result[2])"
      ],
      "metadata": {
        "id": "lLHacAnlsVkJ"
      },
      "execution_count": null,
      "outputs": []
    },
    {
      "cell_type": "code",
      "source": [
        "print(\"Images snatched total:\", len(Image_URL))\n",
        "print(f\"Errors encountered during product scrapping: {len(error_log_products)}\")\n",
        "print(f\"Errors encountered during color swatch scrapping: {len(error_log_swatches)}\")"
      ],
      "metadata": {
        "id": "y8wYOVcasrxw"
      },
      "execution_count": null,
      "outputs": []
    },
    {
      "cell_type": "markdown",
      "source": [
        "# Single process"
      ],
      "metadata": {
        "id": "7kyI1m5Xstcw"
      }
    },
    {
      "cell_type": "code",
      "source": [
        "start = datetime.now()\n",
        "print(\"Start:\", start.strftime(\"%H:%M:%S\"))"
      ],
      "metadata": {
        "id": "-Qley6Y5zjge",
        "colab": {
          "base_uri": "https://localhost:8080/"
        },
        "outputId": "695ebb22-8538-4db4-b721-da587e8c2ca6"
      },
      "execution_count": null,
      "outputs": [
        {
          "output_type": "stream",
          "name": "stdout",
          "text": [
            "Start: 19:26:39\n"
          ]
        }
      ]
    },
    {
      "cell_type": "code",
      "source": [
        "options = webdriver.FirefoxOptions()\n",
        "options.add_argument(\"start-maximized\")\n",
        "options.add_argument(\"--headless\")\n",
        "\n",
        "driver_service = Service(driver_path)\n",
        "\n",
        "browser = webdriver.Firefox(options=options, service=driver_service)\n",
        "browser.command_executor.set_timeout(30)"
      ],
      "metadata": {
        "id": "hQslFYjOtSA7"
      },
      "execution_count": null,
      "outputs": []
    },
    {
      "cell_type": "code",
      "source": [
        "Product_Name = []\n",
        "Product_URL = []\n",
        "Product_original_URL = []\n",
        "Product_ID = []\n",
        "Product_Color = []\n",
        "Product_Categories = []\n",
        "Image_URL = []\n",
        "\n",
        "error_log_products = []\n",
        "error_log_swatches = []\n",
        "\n",
        "for df_row in products_iter:\n",
        "  cur_name = df_row[1]\n",
        "  cur_url = df_row[2]\n",
        "  cur_section = df_row[3]\n",
        "\n",
        "  try:\n",
        "    print(f\"Current product: {cur_name}, url: {cur_url}\")\n",
        "    browser.get(cur_url)\n",
        "\n",
        "    url_template = cur_url.split(\"/\")\n",
        "\n",
        "    WebDriverWait(browser, 30).until(ele_present((By.CSS_SELECTOR, \"div[class='lsco-row product-details__top']\")))\n",
        "    product_details = try_to_get_ele(browser, css_selector=\"div[class='lsco-row product-details__top']\")\n",
        "\n",
        "    if \"firefox\" in browser.capabilities[\"browserName\"]:\n",
        "      scroll_to_ele(browser, product_details)\n",
        "\n",
        "    every_prod_swatch = WebDriverWait(product_details, 30).until(EC.presence_of_all_elements_located((By.CSS_SELECTOR,\n",
        "                                                                                                      \"li[class*='swatch swatch-wrapper']\")))\n",
        "    success = False\n",
        "    try_n = 0\n",
        "    sleep_timer = 0.2\n",
        "    max_retries = int(5 / sleep_timer)\n",
        "    while (not success) and (try_n < max_retries):\n",
        "      try:\n",
        "        swatch_codes = []\n",
        "        swatch_colors = []\n",
        "        for swatch in every_prod_swatch:\n",
        "          swatch_border = swatch.find_element(By.TAG_NAME, \"button\")\n",
        "          swatch_codes.append(swatch.get_attribute(\"code\"))\n",
        "          swatch_colors.append(swatch_border.get_attribute(\"aria-label\"))\n",
        "        success = True\n",
        "      except StaleElementReferenceException:\n",
        "        time.sleep(sleep_timer)\n",
        "        every_prod_swatch = product_details.find_elements(By.CSS_SELECTOR, \"li[class*='swatch swatch-wrapper']\")\n",
        "        try_n += 1\n",
        "\n",
        "    if try_n == max_retries:\n",
        "      raise TimeoutError(f\"Failed to get swatch codes list\")\n",
        "\n",
        "    for swatch_code, swatch_color in zip(swatch_codes, swatch_colors):\n",
        "      try:\n",
        "        url = url_template.copy()\n",
        "        url[-1] = f\"{swatch_code}#swatch\"\n",
        "        swatch_url = \"/\".join(url)\n",
        "\n",
        "        max_retries = 5\n",
        "        try_n = 0\n",
        "        success = False\n",
        "        while (not success) and (try_n < max_retries):\n",
        "          try:\n",
        "            browser.get(swatch_url)\n",
        "            browser.refresh()\n",
        "\n",
        "            WebDriverWait(browser, 15).until(ele_present((By.CSS_SELECTOR, \"div[class='lsco-row product-details__top']\")))\n",
        "            product_details = try_to_get_ele(browser, css_selector=\"div[class='lsco-row product-details__top']\")\n",
        "            success = True\n",
        "          except TimeoutException:\n",
        "            try_n += 1\n",
        "\n",
        "        if try_n == max_retries:\n",
        "          raise TimeoutError(f\"Failed to get swatch\")\n",
        "\n",
        "        if \"firefox\" in browser.capabilities[\"browserName\"]:\n",
        "          scroll_to_ele(browser, product_details)\n",
        "\n",
        "        product_details_breadcrumbs = try_to_get_ele(browser, css_selector=\"div[class='lsco-row product-details__breadcrumbs']\")\n",
        "        WebDriverWait(product_details_breadcrumbs, 30).until(ele_present((By.CSS_SELECTOR, \"li[class='pdp-breadcrumbs__list-item'][aria-current='page']\")))\n",
        "        prod_categories_elements = product_details_breadcrumbs.find_elements(By.CSS_SELECTOR, \"li[class='pdp-breadcrumbs__list-item']\")\n",
        "        prod_categories = [ele.get_attribute(\"aria-label\") for ele in prod_categories_elements]\n",
        "\n",
        "        img_urls = set()\n",
        "        while True:\n",
        "          every_prod_thumbnail = product_details.find_elements(By.CSS_SELECTOR, \"button[class*='product-media-thumbnail']\")\n",
        "          for prod_thumbnail in every_prod_thumbnail:\n",
        "            is_video = prod_thumbnail.find_elements(By.TAG_NAME, \"svg\")\n",
        "            if not is_video:\n",
        "              img_url = prod_thumbnail.find_element(By.TAG_NAME, \"img\").get_attribute(\"data-src\")\n",
        "              img_urls.add(img_url)\n",
        "          next_btn = product_details.find_elements(By.CSS_SELECTOR, \"button[class='view-next-btn']\")\n",
        "          if next_btn:\n",
        "            browser.execute_script(\"arguments[0].click();\", next_btn[0])\n",
        "          else:\n",
        "            break\n",
        "\n",
        "        for img_url in img_urls:\n",
        "          img_url = img_url.replace(\"wid=150&hei=150\", \"wid=900&hei=982\")\n",
        "          img_url = img_url.replace(\"fmt=avif\", \"fmt=jpg\")\n",
        "\n",
        "          Product_Name.append(prod_categories[-1])\n",
        "          Product_URL.append(swatch_url)\n",
        "          Product_original_URL.append(cur_url)\n",
        "          Product_ID.append(swatch_code)\n",
        "          Product_Color.append(swatch_color)\n",
        "          Product_Categories.append(\", \".join(prod_categories[:-1]))\n",
        "          Image_URL.append(img_url)\n",
        "\n",
        "      except Exception as e:\n",
        "        print(f\"Failed to get swatch {swatch_url} for product {cur_url}, skipping\")\n",
        "        print(e.__class__.__name__ )\n",
        "        error = {}\n",
        "        error[\"Product_URL\"] = cur_url\n",
        "        error[\"Product_Swatch_URL\"] = swatch_url\n",
        "        error[\"Product_Section\"] = cur_section\n",
        "        error[\"Error_Type\"] = e.__class__.__name__\n",
        "        error[\"Error_Message\"] = e\n",
        "        error_log_swatches.append(error)\n",
        "  except Exception as e:\n",
        "      print(f\"Failed to get product {cur_url}, skipping\")\n",
        "      print(e.__class__.__name__ )\n",
        "      error = {}\n",
        "      error[\"Product_URL\"] = cur_url\n",
        "      error[\"Product_Section\"] = cur_section\n",
        "      error[\"Error_Type\"] = e.__class__.__name__\n",
        "      error[\"Error_Message\"] = e\n",
        "      error_log_products.append(error)\n",
        "\n",
        "  Product_Name.extend(subtask_result[0][0])\n",
        "  Product_URL.extend(subtask_result[0][1])\n",
        "  Product_original_URL.extend(subtask_result[0][2])\n",
        "  Product_ID.extend(subtask_result[0][3])\n",
        "  Product_Color.extend(subtask_result[0][4])\n",
        "  Product_Categories.extend(subtask_result[0][5])\n",
        "  Image_URL.extend(subtask_result[0][6])\n",
        "\n",
        "  error_log_products.extend(subtask_result[1])\n",
        "  error_log_swatches.extend(subtask_result[2])"
      ],
      "metadata": {
        "id": "pdzrBfSWtWI9",
        "colab": {
          "base_uri": "https://localhost:8080/"
        },
        "outputId": "1df24807-64e1-47cb-f402-5b7073de4cb3"
      },
      "execution_count": null,
      "outputs": [
        {
          "output_type": "stream",
          "name": "stdout",
          "text": [
            "Current product: Type III Sherpa Trucker Jacket, url: https://www.levi.com/US/en_US/p/163650162\n",
            "Current product: Stock Trucker Jacket, url: https://www.levi.com/US/en_US/p/A07300006\n",
            "Current product: 469 Loose Jean 12.5\" Men's Shorts (Big & Tall), url: https://www.levi.com/US/en_US/p/547910007\n",
            "Current product: Relaxed Fit Short Sleeve T-Shirt, url: https://www.levi.com/US/en_US/p/161430729\n",
            "Failed to get product https://www.levi.com/US/en_US/p/161430729, skipping\n",
            "TimeoutException\n",
            "Current product: Levi's® x Vote Relaxed Pullover, url: https://www.levi.com/US/en_US/p/384790020\n",
            "Current product: Portola Chore Coat, url: https://www.levi.com/US/en_US/p/A06810002\n",
            "Current product: Bartlett Utility Jacket, url: https://www.levi.com/US/en_US/p/A32080000\n",
            "Current product: Varsity Relaxed Raglan Crewneck Sweatshirt, url: https://www.levi.com/US/en_US/p/A33140002\n",
            "Current product: Union Rugby Shirt, url: https://www.levi.com/US/en_US/p/A48450004\n",
            "Current product: Chenango Reversible Belt, url: https://www.levi.com/US/en_US/p/380160352\n",
            "Current product: Sportswear Logo Tee Shirt, url: https://www.levi.com/US/en_US/p/396360002\n",
            "Current product: Relaxed Pocket Tee, url: https://www.levi.com/US/en_US/p/343100026\n",
            "Current product: Graphic Relaxed Henley Crewneck Sweatshirt, url: https://www.levi.com/US/en_US/p/A34700001\n",
            "Current product: 1940's Split Hem T-Shirt, url: https://www.levi.com/US/en_US/p/392030012\n",
            "Current product: Short Sleeve Classic 1 Pocket Standard Fit Shirt, url: https://www.levi.com/US/en_US/p/866270107\n",
            "Current product: Vintage Relaxed Fit Trucker Jacket, url: https://www.levi.com/US/en_US/p/852480013\n",
            "Current product: Varsity Relaxed Fit Raglan Hoodie Sweatshirt, url: https://www.levi.com/US/en_US/p/A36500000\n",
            "Current product: Artist T-Shirt, url: https://www.levi.com/US/en_US/p/577880019\n",
            "Failed to get product https://www.levi.com/US/en_US/p/577880019, skipping\n",
            "TimeoutException\n",
            "Current product: Stay Loose Quilted Type II Trucker Jacket, url: https://www.levi.com/US/en_US/p/A07590000\n",
            "Current product: Jackson Worker Shirt (Big), url: https://www.levi.com/US/en_US/p/868960002\n",
            "Current product: Relaxed Fit Short Sleeve T-Shirt (Tall), url: https://www.levi.com/US/en_US/p/871140012\n",
            "Current product: 511™ Slim Cut-Off Tie Dye 10-11\" Men's Shorts, url: https://www.levi.com/US/en_US/p/365550338\n",
            "Current product: Quilted Woodsman Puffer Jacket, url: https://www.levi.com/US/en_US/p/594930016\n",
            "Current product: Jackson Worker Flannel Overshirt, url: https://www.levi.com/US/en_US/p/195730173\n",
            "Current product: Classic T-Shirt, url: https://www.levi.com/US/en_US/p/A21340007\n",
            "Current product: Classic Western Shirt (Big), url: https://www.levi.com/US/en_US/p/574230007\n",
            "Current product: 501® Slim Taper Fit Men's Jeans, url: https://www.levi.com/US/en_US/p/288940241\n",
            "Failed to get product https://www.levi.com/US/en_US/p/288940241, skipping\n",
            "TimeoutException\n",
            "Current product: Short Sleeve Slouchy Button Up Shirt, url: https://www.levi.com/US/en_US/p/A19210001\n",
            "Current product: Stay Loose Pocket T-Shirt, url: https://www.levi.com/US/en_US/p/A40770000\n",
            "Current product: Trucker Jacket, url: https://www.levi.com/US/en_US/p/A31790001\n",
            "Current product: Relaxed Fit Short Sleeve T-Shirt, url: https://www.levi.com/US/en_US/p/161430577\n",
            "Current product: Two Horse Graphic Tee Shirt, url: https://www.levi.com/US/en_US/p/224950041\n",
            "Current product: 512™ Slim Taper Levi's® Flex Men's Jeans, url: https://www.levi.com/US/en_US/p/288330794\n",
            "Current product: Vintage Relaxed Fit Corduroy Trucker Jacket, url: https://www.levi.com/US/en_US/p/852480030\n",
            "Current product: Artist T-Shirt, url: https://www.levi.com/US/en_US/p/577880007\n",
            "Current product: 527™ Slim Bootcut Men's Jeans, url: https://www.levi.com/US/en_US/p/055270685\n",
            "Current product: Sunset Camp Shirt, url: https://www.levi.com/US/en_US/p/726250058\n",
            "Current product: Classic Long Sleeve Rugby Shirt, url: https://www.levi.com/US/en_US/p/A31200002\n",
            "Current product: Denim Super Puffer Jacket, url: https://www.levi.com/US/en_US/p/A07260002\n",
            "Current product: 501® '93 Cut Off 7\" Men's Shorts, url: https://www.levi.com/US/en_US/p/852210012\n",
            "Current product: Vintage Relaxed Fit Sherpa Corduroy Trucker Jacket, url: https://www.levi.com/US/en_US/p/791290033\n",
            "Current product: Short Sleeve Sunset One Pocket Shirt, url: https://www.levi.com/US/en_US/p/866240035\n",
            "Current product: Red Tab™ Long Sleeve T-Shirt, url: https://www.levi.com/US/en_US/p/A06420025\n",
            "Current product: Levi's® XX Chino EZ Waist Taper Fit Men's Pants, url: https://www.levi.com/US/en_US/p/A10400017\n",
            "Current product: Levi's® Logo Relaxed Fit Short Sleeve T-Shirt, url: https://www.levi.com/US/en_US/p/161430651\n",
            "Current product: Camping Hoodie Jacket, url: https://www.levi.com/US/en_US/p/594910209\n",
            "Current product: Vintage Fit Trucker Jacket, url: https://www.levi.com/US/en_US/p/852480001\n",
            "Current product: Relaxed Graphic Hoodie Sweatshirt, url: https://www.levi.com/US/en_US/p/384790138\n",
            "Current product: Denim One Pocket Short Sleeve Shirt, url: https://www.levi.com/US/en_US/p/866270039\n",
            "Current product: Classic Camp Shirt, url: https://www.levi.com/US/en_US/p/219760044\n"
          ]
        }
      ]
    },
    {
      "cell_type": "code",
      "source": [
        "browser.quit()"
      ],
      "metadata": {
        "id": "inzpbz0ot5IU",
        "colab": {
          "base_uri": "https://localhost:8080/"
        },
        "outputId": "c1ef1cde-179d-4ebe-bd11-304ce9417bdf"
      },
      "execution_count": null,
      "outputs": [
        {
          "output_type": "stream",
          "name": "stderr",
          "text": [
            "WARNING:urllib3.connectionpool:Retrying (Retry(total=2, connect=None, read=None, redirect=None, status=None)) after connection broken by 'NewConnectionError('<urllib3.connection.HTTPConnection object at 0x7f20ae0c72e0>: Failed to establish a new connection: [Errno 111] Connection refused')': /session/932a08fa-6c5e-4f5e-808e-3531c3772e38\n",
            "WARNING:urllib3.connectionpool:Retrying (Retry(total=1, connect=None, read=None, redirect=None, status=None)) after connection broken by 'NewConnectionError('<urllib3.connection.HTTPConnection object at 0x7f20da6957f0>: Failed to establish a new connection: [Errno 111] Connection refused')': /session/932a08fa-6c5e-4f5e-808e-3531c3772e38\n",
            "WARNING:urllib3.connectionpool:Retrying (Retry(total=0, connect=None, read=None, redirect=None, status=None)) after connection broken by 'NewConnectionError('<urllib3.connection.HTTPConnection object at 0x7f20ae179df0>: Failed to establish a new connection: [Errno 111] Connection refused')': /session/932a08fa-6c5e-4f5e-808e-3531c3772e38\n"
          ]
        }
      ]
    },
    {
      "cell_type": "code",
      "source": [
        "finish = datetime.now()\n",
        "print(\"Finish:\", finish.strftime(\"%H:%M:%S\"))\n",
        "print()\n",
        "print(\"Time taken:\", str(finish - start).split(\".\")[0])"
      ],
      "metadata": {
        "id": "Snd3a9AJzqRp",
        "colab": {
          "base_uri": "https://localhost:8080/"
        },
        "outputId": "f4bf38e0-b3d9-49b2-d971-91f7d5d16743"
      },
      "execution_count": null,
      "outputs": [
        {
          "output_type": "stream",
          "name": "stdout",
          "text": [
            "Finish: 19:48:02\n",
            "\n",
            "Time taken: 0:21:22\n"
          ]
        }
      ]
    },
    {
      "cell_type": "code",
      "source": [
        "print(\"Images snatched total:\", len(Image_URL))\n",
        "print(f\"Errors encountered during product scrapping: {len(error_log_products)}\")\n",
        "print(f\"Errors encountered during color swatch scrapping: {len(error_log_swatches)}\")"
      ],
      "metadata": {
        "id": "ZpqlBH0HzGfd",
        "colab": {
          "base_uri": "https://localhost:8080/"
        },
        "outputId": "4508987b-e006-4c8e-87b9-c08fa55a6186"
      },
      "execution_count": null,
      "outputs": [
        {
          "output_type": "stream",
          "name": "stdout",
          "text": [
            "Images snatched total: 374\n",
            "Errors encountered during product scrapping: 3\n",
            "Errors encountered during color swatch scrapping: 0\n"
          ]
        }
      ]
    }
  ]
}